{
 "cells": [
  {
   "cell_type": "markdown",
   "metadata": {},
   "source": [
    "# Initializing Environment and Loading the Correct Data #"
   ]
  },
  {
   "cell_type": "code",
   "execution_count": 5,
   "metadata": {},
   "outputs": [
    {
     "name": "stdout",
     "output_type": "stream",
     "text": []
    }
   ],
   "source": [
    "!pip3 install openpyxl\n",
    "!pip3 install seaborn\n",
    "!pip3 install pandas"
   ]
  },
  {
   "cell_type": "code",
   "execution_count": 6,
   "metadata": {},
   "outputs": [],
   "source": [
    "import numpy as np\n",
    "import pandas as pd\n",
    "import seaborn as sns\n",
    "\n",
    "import matplotlib.pyplot as plt\n",
    "%matplotlib inline"
   ]
  },
  {
   "cell_type": "code",
   "execution_count": 7,
   "metadata": {},
   "outputs": [
    {
     "data": {
      "text/html": [
       "<div>\n",
       "<style scoped>\n",
       "    .dataframe tbody tr th:only-of-type {\n",
       "        vertical-align: middle;\n",
       "    }\n",
       "\n",
       "    .dataframe tbody tr th {\n",
       "        vertical-align: top;\n",
       "    }\n",
       "\n",
       "    .dataframe thead th {\n",
       "        text-align: right;\n",
       "    }\n",
       "</style>\n",
       "<table border=\"1\" class=\"dataframe\">\n",
       "  <thead>\n",
       "    <tr style=\"text-align: right;\">\n",
       "      <th></th>\n",
       "      <th>tbl</th>\n",
       "      <th>Year</th>\n",
       "      <th>quarter</th>\n",
       "      <th>citymarketid_1</th>\n",
       "      <th>citymarketid_2</th>\n",
       "      <th>city1</th>\n",
       "      <th>city2</th>\n",
       "      <th>airportid_1</th>\n",
       "      <th>airportid_2</th>\n",
       "      <th>airport_1</th>\n",
       "      <th>...</th>\n",
       "      <th>fare</th>\n",
       "      <th>carrier_lg</th>\n",
       "      <th>large_ms</th>\n",
       "      <th>fare_lg</th>\n",
       "      <th>carrier_low</th>\n",
       "      <th>lf_ms</th>\n",
       "      <th>fare_low</th>\n",
       "      <th>Geocoded_City1</th>\n",
       "      <th>Geocoded_City2</th>\n",
       "      <th>tbl1apk</th>\n",
       "    </tr>\n",
       "  </thead>\n",
       "  <tbody>\n",
       "    <tr>\n",
       "      <th>0</th>\n",
       "      <td>Table1a</td>\n",
       "      <td>2021</td>\n",
       "      <td>3</td>\n",
       "      <td>30135</td>\n",
       "      <td>33195</td>\n",
       "      <td>Allentown/Bethlehem/Easton, PA</td>\n",
       "      <td>Tampa, FL (Metropolitan Area)</td>\n",
       "      <td>10135</td>\n",
       "      <td>14112</td>\n",
       "      <td>ABE</td>\n",
       "      <td>...</td>\n",
       "      <td>81.43</td>\n",
       "      <td>G4</td>\n",
       "      <td>1.0000</td>\n",
       "      <td>81.43</td>\n",
       "      <td>G4</td>\n",
       "      <td>1.0000</td>\n",
       "      <td>81.43</td>\n",
       "      <td>NaN</td>\n",
       "      <td>NaN</td>\n",
       "      <td>202131013514112ABEPIE</td>\n",
       "    </tr>\n",
       "    <tr>\n",
       "      <th>1</th>\n",
       "      <td>Table1a</td>\n",
       "      <td>2021</td>\n",
       "      <td>3</td>\n",
       "      <td>30135</td>\n",
       "      <td>33195</td>\n",
       "      <td>Allentown/Bethlehem/Easton, PA</td>\n",
       "      <td>Tampa, FL (Metropolitan Area)</td>\n",
       "      <td>10135</td>\n",
       "      <td>15304</td>\n",
       "      <td>ABE</td>\n",
       "      <td>...</td>\n",
       "      <td>208.93</td>\n",
       "      <td>DL</td>\n",
       "      <td>0.4659</td>\n",
       "      <td>219.98</td>\n",
       "      <td>UA</td>\n",
       "      <td>0.1193</td>\n",
       "      <td>154.11</td>\n",
       "      <td>NaN</td>\n",
       "      <td>NaN</td>\n",
       "      <td>202131013515304ABETPA</td>\n",
       "    </tr>\n",
       "    <tr>\n",
       "      <th>2</th>\n",
       "      <td>Table1a</td>\n",
       "      <td>2021</td>\n",
       "      <td>3</td>\n",
       "      <td>30140</td>\n",
       "      <td>30194</td>\n",
       "      <td>Albuquerque, NM</td>\n",
       "      <td>Dallas/Fort Worth, TX</td>\n",
       "      <td>10140</td>\n",
       "      <td>11259</td>\n",
       "      <td>ABQ</td>\n",
       "      <td>...</td>\n",
       "      <td>184.56</td>\n",
       "      <td>WN</td>\n",
       "      <td>0.9968</td>\n",
       "      <td>184.44</td>\n",
       "      <td>WN</td>\n",
       "      <td>0.9968</td>\n",
       "      <td>184.44</td>\n",
       "      <td>NaN</td>\n",
       "      <td>NaN</td>\n",
       "      <td>202131014011259ABQDAL</td>\n",
       "    </tr>\n",
       "    <tr>\n",
       "      <th>3</th>\n",
       "      <td>Table1a</td>\n",
       "      <td>2021</td>\n",
       "      <td>3</td>\n",
       "      <td>30140</td>\n",
       "      <td>30194</td>\n",
       "      <td>Albuquerque, NM</td>\n",
       "      <td>Dallas/Fort Worth, TX</td>\n",
       "      <td>10140</td>\n",
       "      <td>11298</td>\n",
       "      <td>ABQ</td>\n",
       "      <td>...</td>\n",
       "      <td>182.64</td>\n",
       "      <td>AA</td>\n",
       "      <td>0.9774</td>\n",
       "      <td>183.09</td>\n",
       "      <td>AA</td>\n",
       "      <td>0.9774</td>\n",
       "      <td>183.09</td>\n",
       "      <td>NaN</td>\n",
       "      <td>NaN</td>\n",
       "      <td>202131014011298ABQDFW</td>\n",
       "    </tr>\n",
       "    <tr>\n",
       "      <th>4</th>\n",
       "      <td>Table1a</td>\n",
       "      <td>2021</td>\n",
       "      <td>3</td>\n",
       "      <td>30140</td>\n",
       "      <td>30466</td>\n",
       "      <td>Albuquerque, NM</td>\n",
       "      <td>Phoenix, AZ</td>\n",
       "      <td>10140</td>\n",
       "      <td>14107</td>\n",
       "      <td>ABQ</td>\n",
       "      <td>...</td>\n",
       "      <td>177.11</td>\n",
       "      <td>WN</td>\n",
       "      <td>0.6061</td>\n",
       "      <td>184.49</td>\n",
       "      <td>AA</td>\n",
       "      <td>0.3939</td>\n",
       "      <td>165.77</td>\n",
       "      <td>NaN</td>\n",
       "      <td>NaN</td>\n",
       "      <td>202131014014107ABQPHX</td>\n",
       "    </tr>\n",
       "    <tr>\n",
       "      <th>...</th>\n",
       "      <td>...</td>\n",
       "      <td>...</td>\n",
       "      <td>...</td>\n",
       "      <td>...</td>\n",
       "      <td>...</td>\n",
       "      <td>...</td>\n",
       "      <td>...</td>\n",
       "      <td>...</td>\n",
       "      <td>...</td>\n",
       "      <td>...</td>\n",
       "      <td>...</td>\n",
       "      <td>...</td>\n",
       "      <td>...</td>\n",
       "      <td>...</td>\n",
       "      <td>...</td>\n",
       "      <td>...</td>\n",
       "      <td>...</td>\n",
       "      <td>...</td>\n",
       "      <td>...</td>\n",
       "      <td>...</td>\n",
       "      <td>...</td>\n",
       "    </tr>\n",
       "    <tr>\n",
       "      <th>245950</th>\n",
       "      <td>Table1a</td>\n",
       "      <td>2024</td>\n",
       "      <td>1</td>\n",
       "      <td>35412</td>\n",
       "      <td>31703</td>\n",
       "      <td>Knoxville, TN</td>\n",
       "      <td>New York City, NY (Metropolitan Area)</td>\n",
       "      <td>15412</td>\n",
       "      <td>12953</td>\n",
       "      <td>TYS</td>\n",
       "      <td>...</td>\n",
       "      <td>278.70</td>\n",
       "      <td>DL</td>\n",
       "      <td>0.7503</td>\n",
       "      <td>287.44</td>\n",
       "      <td>AA</td>\n",
       "      <td>0.2359</td>\n",
       "      <td>248.46</td>\n",
       "      <td>NaN</td>\n",
       "      <td>NaN</td>\n",
       "      <td>202411541212953TYSLGA</td>\n",
       "    </tr>\n",
       "    <tr>\n",
       "      <th>245951</th>\n",
       "      <td>Table1a</td>\n",
       "      <td>2024</td>\n",
       "      <td>1</td>\n",
       "      <td>35412</td>\n",
       "      <td>32467</td>\n",
       "      <td>Knoxville, TN</td>\n",
       "      <td>Miami, FL (Metropolitan Area)</td>\n",
       "      <td>15412</td>\n",
       "      <td>11697</td>\n",
       "      <td>TYS</td>\n",
       "      <td>...</td>\n",
       "      <td>148.69</td>\n",
       "      <td>G4</td>\n",
       "      <td>0.8255</td>\n",
       "      <td>114.45</td>\n",
       "      <td>G4</td>\n",
       "      <td>0.8255</td>\n",
       "      <td>114.45</td>\n",
       "      <td>NaN</td>\n",
       "      <td>NaN</td>\n",
       "      <td>202411541211697TYSFLL</td>\n",
       "    </tr>\n",
       "    <tr>\n",
       "      <th>245952</th>\n",
       "      <td>Table1a</td>\n",
       "      <td>2024</td>\n",
       "      <td>1</td>\n",
       "      <td>35412</td>\n",
       "      <td>32467</td>\n",
       "      <td>Knoxville, TN</td>\n",
       "      <td>Miami, FL (Metropolitan Area)</td>\n",
       "      <td>15412</td>\n",
       "      <td>13303</td>\n",
       "      <td>TYS</td>\n",
       "      <td>...</td>\n",
       "      <td>330.19</td>\n",
       "      <td>AA</td>\n",
       "      <td>0.8057</td>\n",
       "      <td>321.92</td>\n",
       "      <td>AA</td>\n",
       "      <td>0.8057</td>\n",
       "      <td>321.92</td>\n",
       "      <td>NaN</td>\n",
       "      <td>NaN</td>\n",
       "      <td>202411541213303TYSMIA</td>\n",
       "    </tr>\n",
       "    <tr>\n",
       "      <th>245953</th>\n",
       "      <td>Table1a</td>\n",
       "      <td>2024</td>\n",
       "      <td>1</td>\n",
       "      <td>35412</td>\n",
       "      <td>33195</td>\n",
       "      <td>Knoxville, TN</td>\n",
       "      <td>Tampa, FL (Metropolitan Area)</td>\n",
       "      <td>15412</td>\n",
       "      <td>14112</td>\n",
       "      <td>TYS</td>\n",
       "      <td>...</td>\n",
       "      <td>95.65</td>\n",
       "      <td>G4</td>\n",
       "      <td>1.0000</td>\n",
       "      <td>95.65</td>\n",
       "      <td>G4</td>\n",
       "      <td>1.0000</td>\n",
       "      <td>95.65</td>\n",
       "      <td>NaN</td>\n",
       "      <td>NaN</td>\n",
       "      <td>202411541214112TYSPIE</td>\n",
       "    </tr>\n",
       "    <tr>\n",
       "      <th>245954</th>\n",
       "      <td>Table1a</td>\n",
       "      <td>2024</td>\n",
       "      <td>1</td>\n",
       "      <td>35412</td>\n",
       "      <td>33195</td>\n",
       "      <td>Knoxville, TN</td>\n",
       "      <td>Tampa, FL (Metropolitan Area)</td>\n",
       "      <td>15412</td>\n",
       "      <td>15304</td>\n",
       "      <td>TYS</td>\n",
       "      <td>...</td>\n",
       "      <td>330.15</td>\n",
       "      <td>AA</td>\n",
       "      <td>0.5212</td>\n",
       "      <td>288.38</td>\n",
       "      <td>AA</td>\n",
       "      <td>0.5212</td>\n",
       "      <td>288.38</td>\n",
       "      <td>NaN</td>\n",
       "      <td>NaN</td>\n",
       "      <td>202411541215304TYSTPA</td>\n",
       "    </tr>\n",
       "  </tbody>\n",
       "</table>\n",
       "<p>245955 rows × 23 columns</p>\n",
       "</div>"
      ],
      "text/plain": [
       "            tbl  Year  quarter  citymarketid_1  citymarketid_2  \\\n",
       "0       Table1a  2021        3           30135           33195   \n",
       "1       Table1a  2021        3           30135           33195   \n",
       "2       Table1a  2021        3           30140           30194   \n",
       "3       Table1a  2021        3           30140           30194   \n",
       "4       Table1a  2021        3           30140           30466   \n",
       "...         ...   ...      ...             ...             ...   \n",
       "245950  Table1a  2024        1           35412           31703   \n",
       "245951  Table1a  2024        1           35412           32467   \n",
       "245952  Table1a  2024        1           35412           32467   \n",
       "245953  Table1a  2024        1           35412           33195   \n",
       "245954  Table1a  2024        1           35412           33195   \n",
       "\n",
       "                                 city1                                  city2  \\\n",
       "0       Allentown/Bethlehem/Easton, PA          Tampa, FL (Metropolitan Area)   \n",
       "1       Allentown/Bethlehem/Easton, PA          Tampa, FL (Metropolitan Area)   \n",
       "2                      Albuquerque, NM                  Dallas/Fort Worth, TX   \n",
       "3                      Albuquerque, NM                  Dallas/Fort Worth, TX   \n",
       "4                      Albuquerque, NM                            Phoenix, AZ   \n",
       "...                                ...                                    ...   \n",
       "245950                   Knoxville, TN  New York City, NY (Metropolitan Area)   \n",
       "245951                   Knoxville, TN          Miami, FL (Metropolitan Area)   \n",
       "245952                   Knoxville, TN          Miami, FL (Metropolitan Area)   \n",
       "245953                   Knoxville, TN          Tampa, FL (Metropolitan Area)   \n",
       "245954                   Knoxville, TN          Tampa, FL (Metropolitan Area)   \n",
       "\n",
       "        airportid_1  airportid_2 airport_1  ...    fare  carrier_lg  large_ms  \\\n",
       "0             10135        14112       ABE  ...   81.43          G4    1.0000   \n",
       "1             10135        15304       ABE  ...  208.93          DL    0.4659   \n",
       "2             10140        11259       ABQ  ...  184.56          WN    0.9968   \n",
       "3             10140        11298       ABQ  ...  182.64          AA    0.9774   \n",
       "4             10140        14107       ABQ  ...  177.11          WN    0.6061   \n",
       "...             ...          ...       ...  ...     ...         ...       ...   \n",
       "245950        15412        12953       TYS  ...  278.70          DL    0.7503   \n",
       "245951        15412        11697       TYS  ...  148.69          G4    0.8255   \n",
       "245952        15412        13303       TYS  ...  330.19          AA    0.8057   \n",
       "245953        15412        14112       TYS  ...   95.65          G4    1.0000   \n",
       "245954        15412        15304       TYS  ...  330.15          AA    0.5212   \n",
       "\n",
       "        fare_lg carrier_low   lf_ms  fare_low Geocoded_City1  Geocoded_City2  \\\n",
       "0         81.43          G4  1.0000     81.43            NaN             NaN   \n",
       "1        219.98          UA  0.1193    154.11            NaN             NaN   \n",
       "2        184.44          WN  0.9968    184.44            NaN             NaN   \n",
       "3        183.09          AA  0.9774    183.09            NaN             NaN   \n",
       "4        184.49          AA  0.3939    165.77            NaN             NaN   \n",
       "...         ...         ...     ...       ...            ...             ...   \n",
       "245950   287.44          AA  0.2359    248.46            NaN             NaN   \n",
       "245951   114.45          G4  0.8255    114.45            NaN             NaN   \n",
       "245952   321.92          AA  0.8057    321.92            NaN             NaN   \n",
       "245953    95.65          G4  1.0000     95.65            NaN             NaN   \n",
       "245954   288.38          AA  0.5212    288.38            NaN             NaN   \n",
       "\n",
       "                      tbl1apk  \n",
       "0       202131013514112ABEPIE  \n",
       "1       202131013515304ABETPA  \n",
       "2       202131014011259ABQDAL  \n",
       "3       202131014011298ABQDFW  \n",
       "4       202131014014107ABQPHX  \n",
       "...                       ...  \n",
       "245950  202411541212953TYSLGA  \n",
       "245951  202411541211697TYSFLL  \n",
       "245952  202411541213303TYSMIA  \n",
       "245953  202411541214112TYSPIE  \n",
       "245954  202411541215304TYSTPA  \n",
       "\n",
       "[245955 rows x 23 columns]"
      ]
     },
     "execution_count": 7,
     "metadata": {},
     "output_type": "execute_result"
    }
   ],
   "source": [
    "planes = pd.read_excel(\"Business_Dataset.xlsx\")\n",
    "planes"
   ]
  },
  {
   "cell_type": "code",
   "execution_count": 8,
   "metadata": {},
   "outputs": [],
   "source": [
    "planes = planes.drop([\"tbl\", \"citymarketid_1\", \"citymarketid_2\", 'Geocoded_City1', \"Geocoded_City2\", \"tbl1apk\"], axis = 1)"
   ]
  },
  {
   "cell_type": "code",
   "execution_count": 9,
   "metadata": {},
   "outputs": [],
   "source": [
    "# Select only numerical columns\n",
    "numeric_columns = ['airportid_1', 'airportid_2', 'Year','quarter', 'nsmiles', 'passengers', 'fare', 'large_ms', 'fare_lg', 'lf_ms', 'fare_low']\n",
    "\n",
    "# Create a subset with the selected numerical columns\n",
    "planes_numeric = planes[numeric_columns]"
   ]
  },
  {
   "cell_type": "markdown",
   "metadata": {},
   "source": [
    "# Exploratory Analyses #"
   ]
  },
  {
   "cell_type": "markdown",
   "metadata": {},
   "source": [
    "## What is the number of unique routes? ##"
   ]
  },
  {
   "cell_type": "code",
   "execution_count": 10,
   "metadata": {},
   "outputs": [
    {
     "data": {
      "text/html": [
       "<div>\n",
       "<style scoped>\n",
       "    .dataframe tbody tr th:only-of-type {\n",
       "        vertical-align: middle;\n",
       "    }\n",
       "\n",
       "    .dataframe tbody tr th {\n",
       "        vertical-align: top;\n",
       "    }\n",
       "\n",
       "    .dataframe thead th {\n",
       "        text-align: right;\n",
       "    }\n",
       "</style>\n",
       "<table border=\"1\" class=\"dataframe\">\n",
       "  <thead>\n",
       "    <tr style=\"text-align: right;\">\n",
       "      <th></th>\n",
       "      <th>airport_1</th>\n",
       "      <th>airport_2</th>\n",
       "      <th>count</th>\n",
       "    </tr>\n",
       "  </thead>\n",
       "  <tbody>\n",
       "    <tr>\n",
       "      <th>0</th>\n",
       "      <td>ABE</td>\n",
       "      <td>CHI</td>\n",
       "      <td>5</td>\n",
       "    </tr>\n",
       "    <tr>\n",
       "      <th>1</th>\n",
       "      <td>ABE</td>\n",
       "      <td>MCO</td>\n",
       "      <td>5</td>\n",
       "    </tr>\n",
       "    <tr>\n",
       "      <th>2</th>\n",
       "      <td>ABE</td>\n",
       "      <td>MDW</td>\n",
       "      <td>15</td>\n",
       "    </tr>\n",
       "    <tr>\n",
       "      <th>3</th>\n",
       "      <td>ABE</td>\n",
       "      <td>ORD</td>\n",
       "      <td>15</td>\n",
       "    </tr>\n",
       "    <tr>\n",
       "      <th>4</th>\n",
       "      <td>ABE</td>\n",
       "      <td>PIE</td>\n",
       "      <td>13</td>\n",
       "    </tr>\n",
       "    <tr>\n",
       "      <th>...</th>\n",
       "      <td>...</td>\n",
       "      <td>...</td>\n",
       "      <td>...</td>\n",
       "    </tr>\n",
       "    <tr>\n",
       "      <th>4064</th>\n",
       "      <td>XNA</td>\n",
       "      <td>LGA</td>\n",
       "      <td>73</td>\n",
       "    </tr>\n",
       "    <tr>\n",
       "      <th>4065</th>\n",
       "      <td>XNA</td>\n",
       "      <td>LGB</td>\n",
       "      <td>19</td>\n",
       "    </tr>\n",
       "    <tr>\n",
       "      <th>4066</th>\n",
       "      <td>XNA</td>\n",
       "      <td>ONT</td>\n",
       "      <td>32</td>\n",
       "    </tr>\n",
       "    <tr>\n",
       "      <th>4067</th>\n",
       "      <td>XNA</td>\n",
       "      <td>SNA</td>\n",
       "      <td>32</td>\n",
       "    </tr>\n",
       "    <tr>\n",
       "      <th>4068</th>\n",
       "      <td>XNA</td>\n",
       "      <td>SWF</td>\n",
       "      <td>57</td>\n",
       "    </tr>\n",
       "  </tbody>\n",
       "</table>\n",
       "<p>4069 rows × 3 columns</p>\n",
       "</div>"
      ],
      "text/plain": [
       "     airport_1 airport_2  count\n",
       "0          ABE       CHI      5\n",
       "1          ABE       MCO      5\n",
       "2          ABE       MDW     15\n",
       "3          ABE       ORD     15\n",
       "4          ABE       PIE     13\n",
       "...        ...       ...    ...\n",
       "4064       XNA       LGA     73\n",
       "4065       XNA       LGB     19\n",
       "4066       XNA       ONT     32\n",
       "4067       XNA       SNA     32\n",
       "4068       XNA       SWF     57\n",
       "\n",
       "[4069 rows x 3 columns]"
      ]
     },
     "execution_count": 10,
     "metadata": {},
     "output_type": "execute_result"
    }
   ],
   "source": [
    "grouped_routes = planes.groupby([\"airport_1\", \"airport_2\"]).size().reset_index(name = \"count\")\n",
    "grouped_routes #4069 unique routes"
   ]
  },
  {
   "cell_type": "markdown",
   "metadata": {},
   "source": [
    "## What did Delta do that American Airlines did not? ##"
   ]
  },
  {
   "cell_type": "markdown",
   "metadata": {},
   "source": [
    "Delta had a better Basic earnings per share and operating income than American Airlines in 2024 Quarter 2, 2024 Quarter 1, and 2023 Quarter 4. We wanted to use `planes` to see if we could identify any differences in pricing between the two companies, which could have potentially contributed to the differences in performance between the two companies. "
   ]
  },
  {
   "cell_type": "markdown",
   "metadata": {},
   "source": [
    "### American Airlines ###"
   ]
  },
  {
   "cell_type": "markdown",
   "metadata": {},
   "source": [
    "2024: Quarter 1"
   ]
  },
  {
   "cell_type": "code",
   "execution_count": 11,
   "metadata": {},
   "outputs": [
    {
     "name": "stdout",
     "output_type": "stream",
     "text": [
      "Average Market Share: 0.6838514412416851\n",
      "What did American Charge on Average: 306.2052993348115\n",
      "What did the Market Charge on Average: 301.64481152993346\n"
     ]
    }
   ],
   "source": [
    "american_2024_q1 = planes.loc[(planes[\"carrier_lg\"] == \"AA\") & (planes['Year'] == 2024) & (planes['quarter'] == 1)]\n",
    "print('Average Market Share: ' + str(np.mean(american_2024_q1['large_ms'].values)))\n",
    "print('What did American Charge on Average: ' + str(np.mean(american_2024_q1['fare_lg'].values)))\n",
    "print('What did the Market Charge on Average: ' + str(np.mean(american_2024_q1['fare'].values)))"
   ]
  },
  {
   "cell_type": "markdown",
   "metadata": {},
   "source": [
    "2023: Quarter 4"
   ]
  },
  {
   "cell_type": "code",
   "execution_count": 12,
   "metadata": {},
   "outputs": [
    {
     "name": "stdout",
     "output_type": "stream",
     "text": [
      "Average Market Share: 0.6725776805251641\n",
      "What did American Charge on Average: 298.60457330415755\n",
      "What did the Market Charge on Average: 292.91849015317285\n"
     ]
    }
   ],
   "source": [
    "american_2023_q4 = planes.loc[(planes[\"carrier_lg\"] == \"AA\") & (planes['Year'] == 2023) & (planes['quarter'] == 4)]\n",
    "print('Average Market Share: ' + str(np.mean(american_2023_q4['large_ms'].values)))\n",
    "print('What did American Charge on Average: ' + str(np.mean(american_2023_q4['fare_lg'].values)))\n",
    "print('What did the Market Charge on Average: ' + str(np.mean(american_2023_q4['fare'].values)))"
   ]
  },
  {
   "cell_type": "markdown",
   "metadata": {},
   "source": [
    "### Delta ###"
   ]
  },
  {
   "cell_type": "markdown",
   "metadata": {},
   "source": [
    "2024: Quarter 1"
   ]
  },
  {
   "cell_type": "code",
   "execution_count": 13,
   "metadata": {},
   "outputs": [
    {
     "name": "stdout",
     "output_type": "stream",
     "text": [
      "Average Market Share: 0.6070420353982302\n",
      "What did American Charge on Average: 308.2504424778761\n",
      "What did the Market Charge on Average: 280.5449557522124\n"
     ]
    }
   ],
   "source": [
    "delta_2024_q1 = planes.loc[(planes[\"carrier_lg\"] == \"DL\") & (planes['Year'] == 2024) & (planes['quarter'] == 1)]\n",
    "print('Average Market Share: ' + str(np.mean(delta_2024_q1['large_ms'].values)))\n",
    "print('What did American Charge on Average: ' + str(np.mean(delta_2024_q1['fare_lg'].values)))\n",
    "print('What did the Market Charge on Average: ' + str(np.mean(delta_2024_q1['fare'].values)))"
   ]
  },
  {
   "cell_type": "markdown",
   "metadata": {},
   "source": [
    "2023: Quarter 4"
   ]
  },
  {
   "cell_type": "code",
   "execution_count": 14,
   "metadata": {},
   "outputs": [
    {
     "name": "stdout",
     "output_type": "stream",
     "text": [
      "Average Market Share: 0.6124642105263158\n",
      "What did American Charge on Average: 306.627\n",
      "What did the Market Charge on Average: 278.04526315789474\n"
     ]
    }
   ],
   "source": [
    "delta_2023_q4 = planes.loc[(planes[\"carrier_lg\"] == \"DL\") & (planes['Year'] == 2023) & (planes['quarter'] == 4)]\n",
    "print('Average Market Share: ' + str(np.mean(delta_2023_q4['large_ms'].values)))\n",
    "print('What did American Charge on Average: ' + str(np.mean(delta_2023_q4['fare_lg'].values)))\n",
    "print('What did the Market Charge on Average: ' + str(np.mean(delta_2023_q4['fare'].values)))"
   ]
  },
  {
   "cell_type": "markdown",
   "metadata": {},
   "source": [
    "## A Pattern in Pricing ##"
   ]
  },
  {
   "cell_type": "code",
   "execution_count": 15,
   "metadata": {},
   "outputs": [
    {
     "data": {
      "text/plain": [
       "(array([12.32273594, 49.60415348, 12.67957605, ..., 20.98228261,\n",
       "        13.4542715 ,  7.20078586]),\n",
       " array([0.59      , 0.232     , 0.45933333, ..., 0.29958438, 0.39283125,\n",
       "        0.75549649]))"
      ]
     },
     "execution_count": 15,
     "metadata": {},
     "output_type": "execute_result"
    }
   ],
   "source": [
    "percent_diff = []\n",
    "lowest_avg_share = []\n",
    "for start, end in (grouped_routes.values[:, 0:2]):\n",
    "    sample_route = planes.loc[(planes[\"airport_1\"] == start) & (planes[\"airport_2\"] == end)]\n",
    "    fares = sample_route[['fare', 'fare_low']].values\n",
    "    average_route_fair, average_fair_lowest_share = np.average(fares, axis = 0)\n",
    "    percent_diff.append((abs(average_route_fair - average_fair_lowest_share)/((average_fair_lowest_share + average_route_fair)/2)) * 100)\n",
    "    #\n",
    "    #Average Lowest Market Share\n",
    "    lowest_avg_share.append(np.average(sample_route['lf_ms'].values))\n",
    "#\n",
    "percent_diff = np.array(percent_diff)\n",
    "lowest_avg_share = np.array(lowest_avg_share)\n",
    "percent_diff, lowest_avg_share"
   ]
  },
  {
   "cell_type": "code",
   "execution_count": 37,
   "metadata": {},
   "outputs": [
    {
     "data": {
      "text/plain": [
       "<matplotlib.legend.Legend at 0x28b60aad0>"
      ]
     },
     "execution_count": 37,
     "metadata": {},
     "output_type": "execute_result"
    },
    {
     "data": {
      "image/png": "[encoded data removed]",
      "text/plain": [
       "<Figure size 640x480 with 1 Axes>"
      ]
     },
     "metadata": {},
     "output_type": "display_data"
    }
   ],
   "source": [
    "plt.scatter(percent_diff, lowest_avg_share, label = \"All Observations\")\n",
    "plt.xlabel('Percent Difference between Average Fare and Lowest Fare for that Route')\n",
    "plt.ylabel('Average Market Share for Carrier with Lowest Fare')\n",
    "plt.title('Market Share vs. Percent Difference in Fares for unique routes')\n",
    "#\n",
    "random_indices = np.random.choice(np.arange(len(percent_diff)), 500)\n",
    "plt.scatter(percent_diff[random_indices], lowest_avg_share[random_indices], label = \"Random Sample of 500 rows\")\n",
    "plt.legend()"
   ]
  },
  {
   "cell_type": "markdown",
   "metadata": {},
   "source": [
    "# What features are correlated to `large_ms`? #"
   ]
  },
  {
   "cell_type": "code",
   "execution_count": 17,
   "metadata": {},
   "outputs": [
    {
     "data": {
      "image/png": "[encoded data removed]",
      "text/plain": [
       "<Figure size 1000x800 with 2 Axes>"
      ]
     },
     "metadata": {},
     "output_type": "display_data"
    }
   ],
   "source": [
    "# Create a correlation matrix\n",
    "corr_matrix = planes_numeric.corr()\n",
    "plt.figure(figsize=(10, 8))  # Set the figure size\n",
    "\n",
    "matrix = np.triu(corr_matrix)\n",
    "sns.heatmap(corr_matrix, annot=True, cmap=\"Blues\", linewidths=0.5, fmt=\".3f\", mask = matrix)\n",
    "\n",
    "# Add title and labels\n",
    "plt.title('Correlation Heatmap of Airline Data', fontsize=16)\n",
    "plt.show()"
   ]
  },
  {
   "cell_type": "markdown",
   "metadata": {},
   "source": [
    "# Does the data have a linear or non-linear structure? #"
   ]
  },
  {
   "cell_type": "code",
   "execution_count": 18,
   "metadata": {},
   "outputs": [
    {
     "data": {
      "text/plain": [
       "airportid_1    0\n",
       "airportid_2    0\n",
       "Year           0\n",
       "quarter        0\n",
       "nsmiles        0\n",
       "passengers     0\n",
       "fare           0\n",
       "large_ms       0\n",
       "fare_lg        0\n",
       "lf_ms          0\n",
       "fare_low       0\n",
       "dtype: int64"
      ]
     },
     "execution_count": 18,
     "metadata": {},
     "output_type": "execute_result"
    }
   ],
   "source": [
    "correlated_variables = planes_numeric\n",
    "correlated_variables = correlated_variables.dropna()\n",
    "correlated_variables.isna().sum()"
   ]
  },
  {
   "cell_type": "code",
   "execution_count": 19,
   "metadata": {},
   "outputs": [
    {
     "data": {
      "text/html": [
       "<div>\n",
       "<style scoped>\n",
       "    .dataframe tbody tr th:only-of-type {\n",
       "        vertical-align: middle;\n",
       "    }\n",
       "\n",
       "    .dataframe tbody tr th {\n",
       "        vertical-align: top;\n",
       "    }\n",
       "\n",
       "    .dataframe thead th {\n",
       "        text-align: right;\n",
       "    }\n",
       "</style>\n",
       "<table border=\"1\" class=\"dataframe\">\n",
       "  <thead>\n",
       "    <tr style=\"text-align: right;\">\n",
       "      <th></th>\n",
       "      <th>airportid_1</th>\n",
       "      <th>airportid_2</th>\n",
       "      <th>Year</th>\n",
       "      <th>quarter</th>\n",
       "      <th>nsmiles</th>\n",
       "      <th>passengers</th>\n",
       "      <th>fare</th>\n",
       "      <th>large_ms</th>\n",
       "      <th>fare_lg</th>\n",
       "      <th>lf_ms</th>\n",
       "      <th>fare_low</th>\n",
       "    </tr>\n",
       "  </thead>\n",
       "  <tbody>\n",
       "    <tr>\n",
       "      <th>0</th>\n",
       "      <td>10135</td>\n",
       "      <td>14112</td>\n",
       "      <td>2021</td>\n",
       "      <td>3</td>\n",
       "      <td>970</td>\n",
       "      <td>180</td>\n",
       "      <td>81.43</td>\n",
       "      <td>1.0000</td>\n",
       "      <td>81.43</td>\n",
       "      <td>1.0000</td>\n",
       "      <td>81.43</td>\n",
       "    </tr>\n",
       "    <tr>\n",
       "      <th>1</th>\n",
       "      <td>10135</td>\n",
       "      <td>15304</td>\n",
       "      <td>2021</td>\n",
       "      <td>3</td>\n",
       "      <td>970</td>\n",
       "      <td>19</td>\n",
       "      <td>208.93</td>\n",
       "      <td>0.4659</td>\n",
       "      <td>219.98</td>\n",
       "      <td>0.1193</td>\n",
       "      <td>154.11</td>\n",
       "    </tr>\n",
       "    <tr>\n",
       "      <th>2</th>\n",
       "      <td>10140</td>\n",
       "      <td>11259</td>\n",
       "      <td>2021</td>\n",
       "      <td>3</td>\n",
       "      <td>580</td>\n",
       "      <td>204</td>\n",
       "      <td>184.56</td>\n",
       "      <td>0.9968</td>\n",
       "      <td>184.44</td>\n",
       "      <td>0.9968</td>\n",
       "      <td>184.44</td>\n",
       "    </tr>\n",
       "    <tr>\n",
       "      <th>3</th>\n",
       "      <td>10140</td>\n",
       "      <td>11298</td>\n",
       "      <td>2021</td>\n",
       "      <td>3</td>\n",
       "      <td>580</td>\n",
       "      <td>264</td>\n",
       "      <td>182.64</td>\n",
       "      <td>0.9774</td>\n",
       "      <td>183.09</td>\n",
       "      <td>0.9774</td>\n",
       "      <td>183.09</td>\n",
       "    </tr>\n",
       "    <tr>\n",
       "      <th>4</th>\n",
       "      <td>10140</td>\n",
       "      <td>14107</td>\n",
       "      <td>2021</td>\n",
       "      <td>3</td>\n",
       "      <td>328</td>\n",
       "      <td>398</td>\n",
       "      <td>177.11</td>\n",
       "      <td>0.6061</td>\n",
       "      <td>184.49</td>\n",
       "      <td>0.3939</td>\n",
       "      <td>165.77</td>\n",
       "    </tr>\n",
       "    <tr>\n",
       "      <th>...</th>\n",
       "      <td>...</td>\n",
       "      <td>...</td>\n",
       "      <td>...</td>\n",
       "      <td>...</td>\n",
       "      <td>...</td>\n",
       "      <td>...</td>\n",
       "      <td>...</td>\n",
       "      <td>...</td>\n",
       "      <td>...</td>\n",
       "      <td>...</td>\n",
       "      <td>...</td>\n",
       "    </tr>\n",
       "    <tr>\n",
       "      <th>245950</th>\n",
       "      <td>15412</td>\n",
       "      <td>12953</td>\n",
       "      <td>2024</td>\n",
       "      <td>1</td>\n",
       "      <td>665</td>\n",
       "      <td>207</td>\n",
       "      <td>278.70</td>\n",
       "      <td>0.7503</td>\n",
       "      <td>287.44</td>\n",
       "      <td>0.2359</td>\n",
       "      <td>248.46</td>\n",
       "    </tr>\n",
       "    <tr>\n",
       "      <th>245951</th>\n",
       "      <td>15412</td>\n",
       "      <td>11697</td>\n",
       "      <td>2024</td>\n",
       "      <td>1</td>\n",
       "      <td>724</td>\n",
       "      <td>277</td>\n",
       "      <td>148.69</td>\n",
       "      <td>0.8255</td>\n",
       "      <td>114.45</td>\n",
       "      <td>0.8255</td>\n",
       "      <td>114.45</td>\n",
       "    </tr>\n",
       "    <tr>\n",
       "      <th>245952</th>\n",
       "      <td>15412</td>\n",
       "      <td>13303</td>\n",
       "      <td>2024</td>\n",
       "      <td>1</td>\n",
       "      <td>724</td>\n",
       "      <td>70</td>\n",
       "      <td>330.19</td>\n",
       "      <td>0.8057</td>\n",
       "      <td>321.92</td>\n",
       "      <td>0.8057</td>\n",
       "      <td>321.92</td>\n",
       "    </tr>\n",
       "    <tr>\n",
       "      <th>245953</th>\n",
       "      <td>15412</td>\n",
       "      <td>14112</td>\n",
       "      <td>2024</td>\n",
       "      <td>1</td>\n",
       "      <td>550</td>\n",
       "      <td>178</td>\n",
       "      <td>95.65</td>\n",
       "      <td>1.0000</td>\n",
       "      <td>95.65</td>\n",
       "      <td>1.0000</td>\n",
       "      <td>95.65</td>\n",
       "    </tr>\n",
       "    <tr>\n",
       "      <th>245954</th>\n",
       "      <td>15412</td>\n",
       "      <td>15304</td>\n",
       "      <td>2024</td>\n",
       "      <td>1</td>\n",
       "      <td>550</td>\n",
       "      <td>57</td>\n",
       "      <td>330.15</td>\n",
       "      <td>0.5212</td>\n",
       "      <td>288.38</td>\n",
       "      <td>0.5212</td>\n",
       "      <td>288.38</td>\n",
       "    </tr>\n",
       "  </tbody>\n",
       "</table>\n",
       "<p>244343 rows × 11 columns</p>\n",
       "</div>"
      ],
      "text/plain": [
       "        airportid_1  airportid_2  Year  quarter  nsmiles  passengers    fare  \\\n",
       "0             10135        14112  2021        3      970         180   81.43   \n",
       "1             10135        15304  2021        3      970          19  208.93   \n",
       "2             10140        11259  2021        3      580         204  184.56   \n",
       "3             10140        11298  2021        3      580         264  182.64   \n",
       "4             10140        14107  2021        3      328         398  177.11   \n",
       "...             ...          ...   ...      ...      ...         ...     ...   \n",
       "245950        15412        12953  2024        1      665         207  278.70   \n",
       "245951        15412        11697  2024        1      724         277  148.69   \n",
       "245952        15412        13303  2024        1      724          70  330.19   \n",
       "245953        15412        14112  2024        1      550         178   95.65   \n",
       "245954        15412        15304  2024        1      550          57  330.15   \n",
       "\n",
       "        large_ms  fare_lg   lf_ms  fare_low  \n",
       "0         1.0000    81.43  1.0000     81.43  \n",
       "1         0.4659   219.98  0.1193    154.11  \n",
       "2         0.9968   184.44  0.9968    184.44  \n",
       "3         0.9774   183.09  0.9774    183.09  \n",
       "4         0.6061   184.49  0.3939    165.77  \n",
       "...          ...      ...     ...       ...  \n",
       "245950    0.7503   287.44  0.2359    248.46  \n",
       "245951    0.8255   114.45  0.8255    114.45  \n",
       "245952    0.8057   321.92  0.8057    321.92  \n",
       "245953    1.0000    95.65  1.0000     95.65  \n",
       "245954    0.5212   288.38  0.5212    288.38  \n",
       "\n",
       "[244343 rows x 11 columns]"
      ]
     },
     "execution_count": 19,
     "metadata": {},
     "output_type": "execute_result"
    }
   ],
   "source": [
    "correlated_variables"
   ]
  },
  {
   "cell_type": "code",
   "execution_count": 20,
   "metadata": {},
   "outputs": [
    {
     "data": {
      "text/html": [
       "<div>\n",
       "<style scoped>\n",
       "    .dataframe tbody tr th:only-of-type {\n",
       "        vertical-align: middle;\n",
       "    }\n",
       "\n",
       "    .dataframe tbody tr th {\n",
       "        vertical-align: top;\n",
       "    }\n",
       "\n",
       "    .dataframe thead th {\n",
       "        text-align: right;\n",
       "    }\n",
       "</style>\n",
       "<table border=\"1\" class=\"dataframe\">\n",
       "  <thead>\n",
       "    <tr style=\"text-align: right;\">\n",
       "      <th></th>\n",
       "      <th>airportid_1</th>\n",
       "      <th>airportid_2</th>\n",
       "      <th>Year</th>\n",
       "      <th>quarter</th>\n",
       "      <th>nsmiles</th>\n",
       "      <th>passengers</th>\n",
       "      <th>fare</th>\n",
       "      <th>large_ms</th>\n",
       "      <th>fare_lg</th>\n",
       "      <th>lf_ms</th>\n",
       "      <th>fare_low</th>\n",
       "    </tr>\n",
       "  </thead>\n",
       "  <tbody>\n",
       "    <tr>\n",
       "      <th>count</th>\n",
       "      <td>244343.000000</td>\n",
       "      <td>244343.000000</td>\n",
       "      <td>244343.000000</td>\n",
       "      <td>244343.000000</td>\n",
       "      <td>244343.000000</td>\n",
       "      <td>244343.000000</td>\n",
       "      <td>244343.000000</td>\n",
       "      <td>244343.000000</td>\n",
       "      <td>244343.000000</td>\n",
       "      <td>244343.000000</td>\n",
       "      <td>244343.000000</td>\n",
       "    </tr>\n",
       "    <tr>\n",
       "      <th>mean</th>\n",
       "      <td>12437.736244</td>\n",
       "      <td>13248.480615</td>\n",
       "      <td>2008.577508</td>\n",
       "      <td>2.479093</td>\n",
       "      <td>1189.421056</td>\n",
       "      <td>301.442558</td>\n",
       "      <td>218.443940</td>\n",
       "      <td>0.665436</td>\n",
       "      <td>218.715074</td>\n",
       "      <td>0.450438</td>\n",
       "      <td>190.675939</td>\n",
       "    </tr>\n",
       "    <tr>\n",
       "      <th>std</th>\n",
       "      <td>1431.902181</td>\n",
       "      <td>1426.318834</td>\n",
       "      <td>8.688732</td>\n",
       "      <td>1.122082</td>\n",
       "      <td>702.889233</td>\n",
       "      <td>512.498452</td>\n",
       "      <td>79.533099</td>\n",
       "      <td>0.224410</td>\n",
       "      <td>84.659619</td>\n",
       "      <td>0.332669</td>\n",
       "      <td>73.577694</td>\n",
       "    </tr>\n",
       "    <tr>\n",
       "      <th>min</th>\n",
       "      <td>10135.000000</td>\n",
       "      <td>10466.000000</td>\n",
       "      <td>1993.000000</td>\n",
       "      <td>1.000000</td>\n",
       "      <td>109.000000</td>\n",
       "      <td>0.000000</td>\n",
       "      <td>50.000000</td>\n",
       "      <td>0.100000</td>\n",
       "      <td>50.000000</td>\n",
       "      <td>0.010000</td>\n",
       "      <td>50.000000</td>\n",
       "    </tr>\n",
       "    <tr>\n",
       "      <th>25%</th>\n",
       "      <td>11193.000000</td>\n",
       "      <td>12197.000000</td>\n",
       "      <td>2001.000000</td>\n",
       "      <td>1.000000</td>\n",
       "      <td>626.000000</td>\n",
       "      <td>22.000000</td>\n",
       "      <td>164.690000</td>\n",
       "      <td>0.480000</td>\n",
       "      <td>161.510000</td>\n",
       "      <td>0.158000</td>\n",
       "      <td>140.060000</td>\n",
       "    </tr>\n",
       "    <tr>\n",
       "      <th>50%</th>\n",
       "      <td>12266.000000</td>\n",
       "      <td>13303.000000</td>\n",
       "      <td>2009.000000</td>\n",
       "      <td>2.000000</td>\n",
       "      <td>1021.000000</td>\n",
       "      <td>114.000000</td>\n",
       "      <td>209.270000</td>\n",
       "      <td>0.652800</td>\n",
       "      <td>208.040000</td>\n",
       "      <td>0.360000</td>\n",
       "      <td>181.630000</td>\n",
       "    </tr>\n",
       "    <tr>\n",
       "      <th>75%</th>\n",
       "      <td>13487.000000</td>\n",
       "      <td>14679.000000</td>\n",
       "      <td>2016.000000</td>\n",
       "      <td>3.000000</td>\n",
       "      <td>1735.000000</td>\n",
       "      <td>342.000000</td>\n",
       "      <td>262.615000</td>\n",
       "      <td>0.872100</td>\n",
       "      <td>263.640000</td>\n",
       "      <td>0.750000</td>\n",
       "      <td>230.040000</td>\n",
       "    </tr>\n",
       "    <tr>\n",
       "      <th>max</th>\n",
       "      <td>16440.000000</td>\n",
       "      <td>15919.000000</td>\n",
       "      <td>2024.000000</td>\n",
       "      <td>4.000000</td>\n",
       "      <td>2724.000000</td>\n",
       "      <td>8301.000000</td>\n",
       "      <td>3377.000000</td>\n",
       "      <td>1.000000</td>\n",
       "      <td>2725.600000</td>\n",
       "      <td>1.000000</td>\n",
       "      <td>2725.600000</td>\n",
       "    </tr>\n",
       "  </tbody>\n",
       "</table>\n",
       "</div>"
      ],
      "text/plain": [
       "         airportid_1    airportid_2           Year        quarter  \\\n",
       "count  244343.000000  244343.000000  244343.000000  244343.000000   \n",
       "mean    12437.736244   13248.480615    2008.577508       2.479093   \n",
       "std      1431.902181    1426.318834       8.688732       1.122082   \n",
       "min     10135.000000   10466.000000    1993.000000       1.000000   \n",
       "25%     11193.000000   12197.000000    2001.000000       1.000000   \n",
       "50%     12266.000000   13303.000000    2009.000000       2.000000   \n",
       "75%     13487.000000   14679.000000    2016.000000       3.000000   \n",
       "max     16440.000000   15919.000000    2024.000000       4.000000   \n",
       "\n",
       "             nsmiles     passengers           fare       large_ms  \\\n",
       "count  244343.000000  244343.000000  244343.000000  244343.000000   \n",
       "mean     1189.421056     301.442558     218.443940       0.665436   \n",
       "std       702.889233     512.498452      79.533099       0.224410   \n",
       "min       109.000000       0.000000      50.000000       0.100000   \n",
       "25%       626.000000      22.000000     164.690000       0.480000   \n",
       "50%      1021.000000     114.000000     209.270000       0.652800   \n",
       "75%      1735.000000     342.000000     262.615000       0.872100   \n",
       "max      2724.000000    8301.000000    3377.000000       1.000000   \n",
       "\n",
       "             fare_lg          lf_ms       fare_low  \n",
       "count  244343.000000  244343.000000  244343.000000  \n",
       "mean      218.715074       0.450438     190.675939  \n",
       "std        84.659619       0.332669      73.577694  \n",
       "min        50.000000       0.010000      50.000000  \n",
       "25%       161.510000       0.158000     140.060000  \n",
       "50%       208.040000       0.360000     181.630000  \n",
       "75%       263.640000       0.750000     230.040000  \n",
       "max      2725.600000       1.000000    2725.600000  "
      ]
     },
     "execution_count": 20,
     "metadata": {},
     "output_type": "execute_result"
    }
   ],
   "source": [
    "from sklearn.decomposition import PCA\n",
    "from sklearn import preprocessing\n",
    "correlated_variables.describe()\n"
   ]
  },
  {
   "cell_type": "code",
   "execution_count": 21,
   "metadata": {},
   "outputs": [
    {
     "data": {
      "text/plain": [
       "array([[-3.01630088,  1.64836695,  0.35397403, ..., -0.49274956,\n",
       "         0.17619541, -0.09461144],\n",
       "       [ 0.13648101, -0.62860982,  0.62226117, ...,  0.39501512,\n",
       "         0.18091284, -0.04161425],\n",
       "       [-1.40316644,  2.68919976,  1.4712342 , ...,  0.03958754,\n",
       "         0.07712435, -0.04401786],\n",
       "       ...,\n",
       "       [ 1.99883674,  2.28982501, -0.1557439 , ...,  0.66651903,\n",
       "        -0.07860864,  0.06041892],\n",
       "       [-2.72289064,  1.52012907, -0.77281575, ..., -0.32400201,\n",
       "         0.20369105, -0.08213471],\n",
       "       [ 1.98431201,  0.77281663, -0.56787626, ...,  1.31117007,\n",
       "        -0.0222263 ,  0.37313711]])"
      ]
     },
     "execution_count": 21,
     "metadata": {},
     "output_type": "execute_result"
    }
   ],
   "source": [
    "scaled_data = preprocessing.scale(correlated_variables)\n",
    "#\n",
    "pca= PCA()\n",
    "pca_results = pca.fit_transform(scaled_data)\n",
    "pca_results\n"
   ]
  },
  {
   "cell_type": "code",
   "execution_count": 22,
   "metadata": {},
   "outputs": [
    {
     "data": {
      "text/plain": [
       "array([30.00046053, 15.33363979, 10.14597422,  9.46179059,  9.04504838,\n",
       "        8.54865859,  6.70682739,  5.33763088,  3.95090783,  1.13208708,\n",
       "        0.33697472])"
      ]
     },
     "execution_count": 22,
     "metadata": {},
     "output_type": "execute_result"
    },
    {
     "data": {
      "image/png": "[encoded data removed]",
      "text/plain": [
       "<Figure size 640x480 with 1 Axes>"
      ]
     },
     "metadata": {},
     "output_type": "display_data"
    }
   ],
   "source": [
    "percent_variance_explained = pca.explained_variance_ratio_ * 100\n",
    "labels = ['PC' + str(i) for i in range(1, len(percent_variance_explained) + 1)]\n",
    "#\n",
    "plt.bar(x = labels, height = percent_variance_explained)\n",
    "plt.ylabel('Percentage of Variance Explained')\n",
    "plt.title('Principal Component Analysis')\n",
    "#\n",
    "percent_variance_explained"
   ]
  },
  {
   "cell_type": "markdown",
   "metadata": {},
   "source": [
    "Traditional Principal Component Analysis (PCA) is a linear method; it seeks to represent higher-dimensional dataset using hyperplanes. Hence, if PCA struggles to reduce the variance in a dataset to one (or at most) two PC variables, it is likely because of our data is non-linear in structure, meaning it does not follow one prinipal direction but rather branches in multiple directions. Therefore, to model the non-linear dependencies in `correlated_matrix`, a corresponding non-linear model should be used to predict `large_ms`."
   ]
  },
  {
   "cell_type": "markdown",
   "metadata": {},
   "source": [
    "# Developing a Non-Linear Model: A Decision Tree #"
   ]
  },
  {
   "cell_type": "markdown",
   "metadata": {},
   "source": [
    "## Decision Tree on One Sample ##"
   ]
  },
  {
   "cell_type": "code",
   "execution_count": 23,
   "metadata": {},
   "outputs": [
    {
     "name": "stderr",
     "output_type": "stream",
     "text": []
    }
   ],
   "source": [
    "#Grouping 'large_ms' into 'Low', 'Medium', 'High' classifications. \n",
    "bins = [0, 0.3, 0.6, 1]\n",
    "groups = ['Low', 'Medium', 'High'] \n",
    "#\n",
    "correlated_variables['large_ms_groupings'] = pd.cut(correlated_variables['large_ms'], bins, labels = groups)"
   ]
  },
  {
   "cell_type": "code",
   "execution_count": 24,
   "metadata": {},
   "outputs": [],
   "source": [
    "from sklearn.model_selection import KFold, train_test_split, cross_val_score\n",
    "from sklearn.tree import DecisionTreeClassifier\n",
    "from sklearn import tree\n",
    "#\n",
    "features = correlated_variables.drop(['large_ms', 'large_ms_groupings'], axis=1)\n",
    "target = correlated_variables['large_ms_groupings']\n",
    "#"
   ]
  },
  {
   "cell_type": "code",
   "execution_count": 25,
   "metadata": {},
   "outputs": [],
   "source": [
    "X_train, X_test, y_train, y_test = train_test_split(features, target, test_size=0.3, random_state=30)"
   ]
  },
  {
   "cell_type": "code",
   "execution_count": 26,
   "metadata": {},
   "outputs": [],
   "source": [
    "decision_tree = DecisionTreeClassifier()\n",
    "decision_tree = decision_tree.fit(X_train, y_train)\n",
    "#\n",
    "predictions = decision_tree.predict(X_test)"
   ]
  },
  {
   "cell_type": "code",
   "execution_count": 27,
   "metadata": {},
   "outputs": [
    {
     "data": {
      "text/plain": [
       "0.8836746108617656"
      ]
     },
     "execution_count": 27,
     "metadata": {},
     "output_type": "execute_result"
    }
   ],
   "source": [
    "accuracy = sum(predictions == y_test)/(len(y_test))\n",
    "accuracy "
   ]
  },
  {
   "cell_type": "markdown",
   "metadata": {},
   "source": [
    "## Model Cross-Validation ##"
   ]
  },
  {
   "cell_type": "code",
   "execution_count": 28,
   "metadata": {},
   "outputs": [
    {
     "data": {
      "text/plain": [
       "array([0.88501913, 0.88399599, 0.88168368, 0.88571253, 0.88687894])"
      ]
     },
     "execution_count": 28,
     "metadata": {},
     "output_type": "execute_result"
    }
   ],
   "source": [
    "kfold = KFold(n_splits=5, shuffle=True, random_state=30)\n",
    "scores = cross_val_score(decision_tree, features, target, scoring='accuracy', cv =kfold)\n",
    "scores"
   ]
  }
 ],
 "metadata": {
  "kernelspec": {
   "display_name": "Python 3",
   "language": "python",
   "name": "python3"
  },
  "language_info": {
   "codemirror_mode": {
    "name": "ipython",
    "version": 3
   },
   "file_extension": ".py",
   "mimetype": "text/x-python",
   "name": "python",
   "nbconvert_exporter": "python",
   "pygments_lexer": "ipython3",
   "version": "3.11.3"
  }
 },
 "nbformat": 4,
 "nbformat_minor": 2
}
